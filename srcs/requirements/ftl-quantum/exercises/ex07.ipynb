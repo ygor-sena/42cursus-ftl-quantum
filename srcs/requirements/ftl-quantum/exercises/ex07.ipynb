{
 "cells": [
  {
   "cell_type": "code",
   "execution_count": null,
   "metadata": {},
   "outputs": [],
   "source": [
    "from qiskit import QuantumCircuit\n",
    "from qiskit_aer import AerSimulator\n",
    "import numpy as np\n",
    "\n",
    "def compile_circuit(function: QuantumCircuit):\n",
    "    \"\"\"\n",
    "    Compiles a circuit for use in the Deutsch-Jozsa algorithm.\n",
    "    \"\"\"\n",
    "    n = function.num_qubits - 1\n",
    "    qc = QuantumCircuit(n + 1, n)\n",
    "    qc.x(n)\n",
    "    qc.h(range(n + 1))\n",
    "    qc.compose(function, inplace=True)\n",
    "    qc.h(range(n))\n",
    "    qc.measure(range(n), range(n))\n",
    "    return qc"
   ]
  },
  {
   "cell_type": "code",
   "execution_count": null,
   "metadata": {},
   "outputs": [],
   "source": [
    "def bv_function(s):\n",
    "    \"\"\"\n",
    "    Create a Bernstein-Vazirani function from a string of 1s and 0s.\n",
    "    \"\"\"\n",
    "    qc = QuantumCircuit(len(s) + 1)\n",
    "    for index, bit in enumerate(reversed(s)):\n",
    "        if bit == \"1\":\n",
    "            qc.cx(index, len(s))\n",
    "    return qc"
   ]
  },
  {
   "cell_type": "code",
   "execution_count": null,
   "metadata": {},
   "outputs": [],
   "source": [
    "def bv_algorithm(function: QuantumCircuit):\n",
    "    qc = compile_circuit(function)\n",
    "    result = AerSimulator().run(qc, shots=500, memory=True).result()\n",
    "    return result.get_memory()[0]"
   ]
  },
  {
   "cell_type": "code",
   "execution_count": null,
   "metadata": {},
   "outputs": [],
   "source": [
    "bit_string = \"1001\"\n",
    "display(bv_function(bit_string).draw(\"mpl\"))\n",
    "display(bv_algorithm(bv_function(bit_string)))"
   ]
  },
  {
   "cell_type": "code",
   "execution_count": null,
   "metadata": {},
   "outputs": [],
   "source": [
    "bit_string = \"101\"\n",
    "display(bv_function(bit_string).draw(\"mpl\"))\n",
    "display(bv_algorithm(bv_function(bit_string)))"
   ]
  },
  {
   "cell_type": "code",
   "execution_count": null,
   "metadata": {},
   "outputs": [],
   "source": [
    "bit_string = \"10011001\"\n",
    "display(bv_function(bit_string).draw(\"mpl\"))\n",
    "display(bv_algorithm(bv_function(bit_string)))"
   ]
  }
 ],
 "metadata": {
  "language_info": {
   "name": "python"
  }
 },
 "nbformat": 4,
 "nbformat_minor": 2
}
