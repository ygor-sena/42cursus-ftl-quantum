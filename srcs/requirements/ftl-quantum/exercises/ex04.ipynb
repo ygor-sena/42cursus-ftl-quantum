{
 "cells": [
  {
   "cell_type": "code",
   "execution_count": null,
   "metadata": {},
   "outputs": [],
   "source": [
    "from qiskit import QuantumCircuit, QuantumRegister\n",
    "\n",
    "from qiskit.visualization import plot_histogram\n",
    "from qiskit.visualization import plot_distribution\n",
    "\n",
    "# Create a new qubit called 'Q'\n",
    "q = QuantumRegister(2, \"Q\")\n",
    "\n",
    "# Create a new circuit with two qubits\n",
    "qc = QuantumCircuit(q)\n",
    "\n",
    "# Add a Hadamard gate to qubit 0\n",
    "qc.h(0)\n",
    "\n",
    "# Apply a CNOT gate with qubit 0 as control and qubit 1 as target\n",
    "qc.cx(0, 1)\n",
    "\n",
    "qc.measure_all()\n",
    "\n",
    "# Return a drawing of the circuit using MatPlotLib (\"mpl\"). This is the\n",
    "# last line of the cell, so the drawing appears in the cell output.\n",
    "# Remove the \"mpl\" argument to get a text drawing.\n",
    "qc.draw(output=\"mpl\")"
   ]
  },
  {
   "cell_type": "code",
   "execution_count": null,
   "metadata": {},
   "outputs": [],
   "source": [
    "from qiskit_ibm_runtime import QiskitRuntimeService\n",
    "from qiskit_aer import Aer\n",
    "import os\n",
    "\n",
    "KEY = os.environ[\"IBM_API_TOKEN\"]\n",
    "\n",
    "QiskitRuntimeService.save_account(channel=\"ibm_quantum\",\n",
    "\t\t\t\t\t\t\t\t  token=KEY, overwrite=True,\n",
    "\t\t\t\t\t\t\t\t  set_as_default=True)"
   ]
  },
  {
   "cell_type": "code",
   "execution_count": null,
   "metadata": {},
   "outputs": [],
   "source": [
    "from qiskit.transpiler.preset_passmanagers import generate_preset_pass_manager\n",
    "\n",
    "# Optimize for quantum execution\n",
    "service = QiskitRuntimeService(channel=\"ibm_quantum\")\n",
    "backend = service.least_busy(operational=True, simulator=False)\n",
    "print(backend.name)"
   ]
  },
  {
   "cell_type": "code",
   "execution_count": null,
   "metadata": {},
   "outputs": [],
   "source": [
    "target = backend.target\n",
    "pass_manager = generate_preset_pass_manager(target=target, optimization_level=2, backend=backend)\n",
    "\n",
    "# Transpile it by calling the run method of the pass manager\n",
    "transpiled = pass_manager.run(qc)\n",
    " \n",
    "# Draw it, excluding idle qubits from the diagram\n",
    "transpiled.draw(\"mpl\", idle_wires=False, style=\"iqp\")"
   ]
  },
  {
   "cell_type": "code",
   "execution_count": null,
   "metadata": {},
   "outputs": [],
   "source": [
    "# Imports from Qiskit Runtime\n",
    "from qiskit_ibm_runtime import SamplerV2 as Sampler, Options\n",
    "\n",
    "# Here we can configure the sample, such as:\n",
    "# sampler.options.default_shots = 500\n",
    "sampler = Sampler(mode=backend)\n",
    "\n",
    "# Turn on dynamical decoupling\n",
    "sampler.options.dynamical_decoupling.enable = True\n",
    "# Turn on gate twirling. Requires qiskit_ibm_runtime 0.23.0 or later.\n",
    "sampler.options.twirling.enable_gates = True\n",
    "\n",
    "# Create a job to be executed locally or remote\n",
    "job = sampler.run([transpiled], shots=500)\n",
    "job_id = job.job_id()\n",
    "print(job_id)"
   ]
  },
  {
   "cell_type": "code",
   "execution_count": null,
   "metadata": {},
   "outputs": [],
   "source": [
    "# Create histogram from job result\n",
    "#job = service.job('ctbbagtwwtng0083dneg')\n",
    "result = job.result()\n",
    "dist = result[0].data.meas.get_counts()\n",
    "plot_distribution(dist)"
   ]
  },
  {
   "cell_type": "code",
   "execution_count": null,
   "metadata": {},
   "outputs": [],
   "source": [
    "plot_histogram(dist)"
   ]
  }
 ],
 "metadata": {
  "language_info": {
   "name": "python"
  }
 },
 "nbformat": 4,
 "nbformat_minor": 2
}
