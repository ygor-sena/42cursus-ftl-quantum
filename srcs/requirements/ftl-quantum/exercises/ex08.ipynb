{
 "cells": [
  {
   "cell_type": "code",
   "execution_count": null,
   "metadata": {},
   "outputs": [],
   "source": [
    "from qiskit import QuantumCircuit\n",
    "import numpy as np\n",
    "\n",
    "def simon_function(s: str):\n",
    "    \"\"\"\n",
    "    Create a QuantumCircuit implementing a query gate for Simon problem obeying the promise for the hidden string `s`\n",
    "    \"\"\"\n",
    "    # Our quantum circuit has 2n qubits for n = len(s)\n",
    "    n = len(s)\n",
    "    qc = QuantumCircuit(2 * n)\n",
    "\n",
    "    # Define a random permutation of all n bit strings. This permutation will effectively hide the string s.\n",
    "    pi = np.random.permutation(2 ** n)\n",
    "\n",
    "    # Now we'll define a query gate explicitly. The idea is to first define a function g(x) = min{x,x ^ s}, which\n",
    "    # is a simple function that satisfies the promise, and then we take f to be the composition of g and the random\n",
    "    # permutation pi. This gives us a random function satisfying the promise for s.\n",
    "\n",
    "    query_gate = np.zeros((4 ** n, 4 ** n))\n",
    "    for x in range(2 ** n):\n",
    "        for y in range(2 ** n):\n",
    "            z = y ^ pi[min(x, x ^ int(s, 2))]\n",
    "            query_gate[x + 2 ** n * z, x + 2 ** n * y] = 1\n",
    "\n",
    "    # Our circuit has just this one query gate\n",
    "    qc.unitary(query_gate, range(2 * n))\n",
    "    return qc"
   ]
  },
  {
   "cell_type": "code",
   "execution_count": null,
   "metadata": {},
   "outputs": [],
   "source": [
    "from qiskit_aer import AerSimulator\n",
    "\n",
    "def simon_measurements(problem: QuantumCircuit, k: int):\n",
    "    \"\"\"\n",
    "    Quantum part of Simon's algorithm. Given a `QuantumCircuit` that\n",
    "    implements f, get `k` measurements to be post-processed later.\n",
    "    \"\"\"\n",
    "    n = problem.num_qubits // 2\n",
    "\n",
    "    qc = QuantumCircuit(2 * n, n)\n",
    "    qc.h(range(n))\n",
    "    qc.compose(problem, inplace=True)\n",
    "    qc.h(range(n))\n",
    "    qc.measure(range(n), range(n))\n",
    "\n",
    "    result = AerSimulator().run(qc, shots=k, memory=True).result()\n",
    "    return result.get_memory()"
   ]
  },
  {
   "cell_type": "code",
   "execution_count": null,
   "metadata": {},
   "outputs": [],
   "source": [
    "# This is a simple test to check that the function is working\n",
    "# and that the measurements are being taken correctly.\n",
    "display(simon_measurements(simon_function(\"11011\"),k=12))"
   ]
  },
  {
   "cell_type": "code",
   "execution_count": null,
   "metadata": {},
   "outputs": [],
   "source": [
    "import numpy as np\n",
    "import galois\n",
    "\n",
    "def simon_algorithm(problem: QuantumCircuit):\n",
    "    \"\"\"\n",
    "    Given a `QuantumCircuit` that implements a query gate for Simon problem, return the hidden string `s`.\n",
    "    \"\"\"\n",
    "\n",
    "    # Quantum part: run the circuit defined previously k times and gather the measurement results.\n",
    "    # Replace +10 by +r for any nonnegative integer r depending on desired confidence.\n",
    "\n",
    "    measurements = simon_measurements(problem, k=problem.num_qubits // 2 + 10)\n",
    "    print(\"Measurement results:\")\n",
    "    display(measurements)\n",
    "\n",
    "    # Classical post-processing:\n",
    "\n",
    "    # 1. Convert measurements of form '11101' to 2D-array of integers\n",
    "    matrix = np.array([list(bitstring) for bitstring in measurements]).astype(int)\n",
    "\n",
    "    # 2. Interpret matrix as using arithmetic mod 2, and find null space\n",
    "    null_space = galois.GF(2)(matrix).null_space()\n",
    "    print(\"Null space:\")\n",
    "    display(null_space)\n",
    "\n",
    "    # 3. Convert back to a string\n",
    "    print(\"Guess for hidden string s:\")\n",
    "    if len(null_space) == 0:\n",
    "        # No non-trivial solution; `s` is all-zeros\n",
    "        return \"0\" * len(measurements[0])\n",
    "    return \"\".join(np.array(null_space[0]).astype(str))"
   ]
  },
  {
   "cell_type": "code",
   "execution_count": null,
   "metadata": {},
   "outputs": [],
   "source": [
    "# Test with string size of 3 qubits\n",
    "display(simon_algorithm(simon_function(\"111\")))"
   ]
  },
  {
   "cell_type": "code",
   "execution_count": null,
   "metadata": {},
   "outputs": [],
   "source": [
    "# Test with string size of 4 qubits\n",
    "display(simon_algorithm(simon_function(\"0010\")))"
   ]
  },
  {
   "cell_type": "code",
   "execution_count": null,
   "metadata": {},
   "outputs": [],
   "source": [
    "# Test with string size of 5 qubits\n",
    "display(simon_algorithm(simon_function(\"10011\")))"
   ]
  }
 ],
 "metadata": {
  "language_info": {
   "name": "python"
  }
 },
 "nbformat": 4,
 "nbformat_minor": 2
}
