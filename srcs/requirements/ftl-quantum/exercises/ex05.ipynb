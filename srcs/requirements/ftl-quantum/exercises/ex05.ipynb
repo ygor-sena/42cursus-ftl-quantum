{
 "cells": [
  {
   "cell_type": "code",
   "execution_count": null,
   "metadata": {},
   "outputs": [],
   "source": [
    "from qiskit import QuantumCircuit\n",
    "import numpy as np\n",
    "\n",
    "def compile_circuit(function: QuantumCircuit):\n",
    "    \"\"\"\n",
    "    Compiles a circuit for use in the Deutsch-Jozsa algorithm.\n",
    "    \"\"\"\n",
    "    n = function.num_qubits - 1\n",
    "    qc = QuantumCircuit(n + 1, n)\n",
    "    qc.x(n)\n",
    "    qc.h(range(n + 1))\n",
    "    qc.compose(function, inplace=True)\n",
    "    qc.h(range(n))\n",
    "    qc.measure(range(n), range(n))\n",
    "    return qc"
   ]
  },
  {
   "cell_type": "code",
   "execution_count": null,
   "metadata": {},
   "outputs": [],
   "source": [
    "from qiskit_aer import AerSimulator\n",
    "\n",
    "def dj_algorithm(function: QuantumCircuit):\n",
    "    \"\"\"\n",
    "    Determine if a Deutsch-Jozsa function is constant or balanced.\n",
    "    \"\"\"\n",
    "    qc = compile_circuit(function)\n",
    "\n",
    "    result = AerSimulator().run(qc, shots=500, memory=True).result()\n",
    "    measurements = result.get_memory()\n",
    "    if \"1\" in measurements[0]:\n",
    "        return \"balanced\"\n",
    "    return \"constant\""
   ]
  },
  {
   "cell_type": "code",
   "execution_count": null,
   "metadata": {},
   "outputs": [],
   "source": [
    "def subject_constant_oracle():\n",
    "    qc = QuantumCircuit(4)\n",
    "    qc.x(3)\n",
    "\n",
    "    return qc\n",
    "\n",
    "f = subject_constant_oracle()\n",
    "display(f.draw(\"mpl\"))\n",
    "display(dj_algorithm(f))"
   ]
  },
  {
   "cell_type": "code",
   "execution_count": null,
   "metadata": {},
   "outputs": [],
   "source": [
    "def subject_balanced_oracle():\n",
    "    qc = QuantumCircuit(4)\n",
    "    qc.x([0, 1, 2])\n",
    "    qc.cx(0, 3)\n",
    "    qc.cx(1, 3)\n",
    "    qc.cx(2, 3)\n",
    "    qc.x([0, 1, 2])\n",
    "\n",
    "    return qc\n",
    "\n",
    "f = subject_balanced_oracle()\n",
    "display(f.draw(\"mpl\"))\n",
    "display(dj_algorithm(f))"
   ]
  },
  {
   "cell_type": "code",
   "execution_count": null,
   "metadata": {},
   "outputs": [],
   "source": [
    "# [IMPORTANT]\n",
    "# This is the code provided by the subject to generate a random\n",
    "# balanced circuit to test our Deutsch-Jozsa algorithm\n",
    "\n",
    "import numpy as np\n",
    "import qiskit as q\n",
    "from qiskit import QuantumCircuit\n",
    "\n",
    "nqubits = 4\n",
    "oracle = QuantumCircuit(nqubits, name='oracle$_\\omega$')\n",
    "\n",
    "# Balanced oracle\n",
    "b = np.random.randint(1,2**nqubits-1)\n",
    "b_str = format(b, '0'+str(nqubits-1)+'b')\n",
    "for qubit in range(len(b_str)):\n",
    "    if b_str[qubit] == '1':\n",
    "        oracle.x(qubit)\n",
    "\n",
    "for qubit in range(nqubits-1):\n",
    "    oracle.cx(qubit, nqubits-1)\n",
    "for qubit in range(len(b_str)):\n",
    "    if b_str[qubit] == '1':\n",
    "        oracle.x(qubit)\n",
    "\n",
    "oracle.to_gate()\n",
    "display(oracle.draw(\"mpl\"))\n",
    "\n",
    "# Add it to your circuit with (and remove your personal oracle):\n",
    "#your_circuit.append(oracle, range(nqubits))\n",
    "display(dj_algorithm(oracle))\n",
    "\n",
    "# [NOTE]\n",
    "# The exercise asks to test with 4 qubits. But if the student has made a generic system, you can change nqubits.\n",
    "# circuit is a QuantumCircuit"
   ]
  },
  {
   "cell_type": "code",
   "execution_count": null,
   "metadata": {},
   "outputs": [],
   "source": [
    "# [IMPORTANT]\n",
    "# This is the code provided by the subject to generate a random\n",
    "# balanced circuit to test our Deutsch-Jozsa algorithmdisplay(dj_algorithm(oracle))\n",
    "\n",
    "import numpy as np\n",
    "import qiskit as q\n",
    "from qiskit import QuantumCircuit\n",
    "\n",
    "nqubits = 4\n",
    "oracle = QuantumCircuit(nqubits, name='oracle$_\\omega$')\n",
    "\n",
    "# Constant oracle\n",
    "if np.random.randint(2) == 1:\n",
    "    oracle.x(nqubits-1)\n",
    "\n",
    "oracle.to_gate()\n",
    "display(oracle.draw(\"mpl\"))\n",
    "\n",
    "# Add it to your circuit with (and remove your personal oracle):\n",
    "#your_circuit.append(oracle, range(nqubits))\n",
    "display(dj_algorithm(oracle))\n",
    "\n",
    "# [NOTE]\n",
    "# The exercise asks to test with 4 qubits. But if the student has made a generic system, you can change nqubits.\n",
    "# circuit is a QuantumCircuit"
   ]
  }
 ],
 "metadata": {
  "language_info": {
   "name": "python"
  }
 },
 "nbformat": 4,
 "nbformat_minor": 2
}
