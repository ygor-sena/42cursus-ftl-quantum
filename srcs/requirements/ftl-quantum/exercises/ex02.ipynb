{
 "cells": [
  {
   "cell_type": "code",
   "execution_count": null,
   "metadata": {},
   "outputs": [],
   "source": [
    "from qiskit import QuantumCircuit, QuantumRegister\n",
    "\n",
    "# Create a new qubit called 'Q'\n",
    "q = QuantumRegister(1, 'Q')\n",
    "\n",
    "# Create a new circuit with two qubits\n",
    "qc = QuantumCircuit(q)\n",
    "\n",
    "# Add a Hadamard gate to qubit 0\n",
    "qc.h(0)\n",
    "\n",
    "qc.measure_all()\n",
    "\n",
    "# Return a drawing of the circuit using MatPlotLib (\"mpl\"). This is the\n",
    "# last line of the cell, so the drawing appears in the cell output.\n",
    "# Remove the \"mpl\" argument to get a text drawing.\n",
    "qc.draw(output=\"mpl\")"
   ]
  },
  {
   "cell_type": "code",
   "execution_count": null,
   "metadata": {},
   "outputs": [],
   "source": [
    "from qiskit.transpiler.preset_passmanagers import generate_preset_pass_manager\n",
    "from qiskit_aer import Aer\n",
    "\n",
    "# Optimize for quantum execution\n",
    "backend = Aer.get_backend('qasm_simulator')\n",
    "target = backend.target\n",
    "pass_manager = generate_preset_pass_manager(target=target, optimization_level=0, backend=backend)\n",
    "\n",
    "# Transpile it by calling the run method of the pass manager\n",
    "transpiled = pass_manager.run(qc)\n",
    " \n",
    "# Draw it, excluding idle qubits from the diagram\n",
    "transpiled.draw(\"mpl\", idle_wires=False, style=\"iqp\")"
   ]
  },
  {
   "cell_type": "code",
   "execution_count": null,
   "metadata": {},
   "outputs": [],
   "source": [
    "# Imports from Qiskit Runtime\n",
    "from qiskit_ibm_runtime import SamplerV2 as Sampler\n",
    "\n",
    "from qiskit.visualization import plot_histogram\n",
    "from qiskit.visualization import plot_distribution\n",
    "\n",
    "# Here we can configure the sample, such as:\n",
    "# sampler.options.default_shots = 500\n",
    "sampler = Sampler(mode=backend)\n",
    "\n",
    "# Create a job to be executed locally or remote\n",
    "job = sampler.run([transpiled], shots=500)\n",
    "\n",
    "# Create histogram from job result\n",
    "result = job.result()\n",
    "dist = result[0].data.meas.get_counts()\n",
    "plot_distribution(dist)"
   ]
  },
  {
   "cell_type": "code",
   "execution_count": null,
   "metadata": {},
   "outputs": [],
   "source": [
    "plot_histogram(dist)"
   ]
  }
 ],
 "metadata": {
  "language_info": {
   "name": "python"
  }
 },
 "nbformat": 4,
 "nbformat_minor": 2
}
