{
 "cells": [
  {
   "cell_type": "code",
   "execution_count": null,
   "metadata": {},
   "outputs": [],
   "source": [
    "from qiskit_ibm_runtime import QiskitRuntimeService\n",
    "from qiskit_aer import Aer\n",
    "import os\n",
    "\n",
    "KEY = os.environ[\"IBM_API_TOKEN\"]\n",
    "\n",
    "QiskitRuntimeService.save_account(channel=\"ibm_quantum\",\n",
    "\t\t\t\t\t\t\t\t  token=KEY, overwrite=True,\n",
    "\t\t\t\t\t\t\t\t  set_as_default=True)"
   ]
  },
  {
   "cell_type": "code",
   "execution_count": null,
   "metadata": {},
   "outputs": [],
   "source": [
    "classic_pcs = QiskitRuntimeService().backends(simulator=True, operational=True)\n",
    "aer_pcs = Aer.backends()\n",
    "\n",
    "print(\"Simulated quantum computers:\")\n",
    "for cp in classic_pcs:\n",
    "\tprint(f'\\t{cp.name:<35s} has {cp.status().pending_jobs:4} queues')\n",
    "for ap in aer_pcs:\n",
    "\tprint(f'\\t{ap.name:<35s} has {ap.status().pending_jobs:4} queues')"
   ]
  },
  {
   "cell_type": "code",
   "execution_count": null,
   "metadata": {},
   "outputs": [],
   "source": [
    "quantum_pcs = QiskitRuntimeService().backends(simulator=False, operational=True)\n",
    "\n",
    "print(\"Real quantum computers:\")\n",
    "for qc in quantum_pcs:\n",
    "    print(f'\\t{qc.name:<15s} has {qc.status().pending_jobs:4}'\n",
    "          f' queues with {qc.num_qubits:3} qubits')"
   ]
  }
 ],
 "metadata": {
  "kernelspec": {
   "display_name": "Python 3",
   "language": "python",
   "name": "python3"
  },
  "language_info": {
   "codemirror_mode": {
    "name": "ipython",
    "version": 3
   },
   "file_extension": ".py",
   "mimetype": "text/x-python",
   "name": "python",
   "nbconvert_exporter": "python",
   "pygments_lexer": "ipython3",
   "version": "3.10.13"
  }
 },
 "nbformat": 4,
 "nbformat_minor": 2
}
